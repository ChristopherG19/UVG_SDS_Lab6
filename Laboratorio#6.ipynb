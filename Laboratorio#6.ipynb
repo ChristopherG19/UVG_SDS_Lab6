{
  "cells": [
    {
      "cell_type": "markdown",
      "metadata": {},
      "source": [
        "## Laboratorio#6\n",
        "### Preámbulo"
      ]
    },
    {
      "cell_type": "code",
      "execution_count": 2,
      "metadata": {
        "id": "8TrBXp14pv54"
      },
      "outputs": [
        {
          "name": "stderr",
          "output_type": "stream",
          "text": [
            "WARNING: Wireshark is installed, but cannot read manuf !\n"
          ]
        }
      ],
      "source": [
        "from scapy.all import * # Packet manipulation\n",
        "import pandas as pd # Pandas - Create and Manipulate DataFrames\n",
        "import numpy as np # Math Stuff (don't worry only used for one line :] )\n",
        "import binascii # Binary to Ascii\n",
        "import seaborn as sns\n",
        "sns.set(color_codes=True)"
      ]
    },
    {
      "cell_type": "markdown",
      "metadata": {
        "id": "Z-HBMA7ep50R"
      },
      "source": [
        "Captura de 25 paquetes"
      ]
    },
    {
      "cell_type": "code",
      "execution_count": 3,
      "metadata": {
        "colab": {
          "base_uri": "https://localhost:8080/"
        },
        "id": "CFGBX16-p0SZ",
        "outputId": "9f9dba39-0390-4b12-8bb2-de1380627464"
      },
      "outputs": [
        {
          "name": "stdout",
          "output_type": "stream",
          "text": [
            "<class 'scapy.plist.PacketList'>\n",
            "25\n",
            "<Sniffed: TCP:23 UDP:0 ICMP:0 Other:2>\n"
          ]
        },
        {
          "data": {
            "text/plain": [
              "<Ether  dst=40:5b:d8:95:5d:07 src=6c:63:9c:37:ef:60 type=IPv4 |<IP  version=4 ihl=5 tos=0x0 len=40 id=42706 flags=DF frag=0 ttl=108 proto=tcp chksum=0x663b src=40.126.24.147 dst=192.168.0.9 |<TCP  sport=https dport=39782 seq=1317107098 ack=1437256936 dataofs=5 reserved=0 flags=A window=16385 chksum=0xea40 urgptr=0 |<Padding  load='\\x00\\x00\\x00\\x00\\x00\\x00' |>>>>"
            ]
          },
          "execution_count": 3,
          "metadata": {},
          "output_type": "execute_result"
        }
      ],
      "source": [
        "num_of_packets_to_sniff = 25\n",
        "pcap = sniff(count=num_of_packets_to_sniff)\n",
        "\n",
        "# rdpcap returns packet list\n",
        "## packetlist object can be enumerated\n",
        "print(type(pcap))\n",
        "print(len(pcap))\n",
        "print(pcap)"
      ]
    },
    {
      "cell_type": "code",
      "execution_count": null,
      "metadata": {},
      "outputs": [],
      "source": [
        "pcap[0]"
      ]
    },
    {
      "cell_type": "markdown",
      "metadata": {
        "id": "S8KkL6uTqwD2"
      },
      "source": [
        "TCP"
      ]
    },
    {
      "cell_type": "code",
      "execution_count": 6,
      "metadata": {
        "colab": {
          "base_uri": "https://localhost:8080/"
        },
        "id": "VEWhUmrsqUFC",
        "outputId": "039a8cef-fd69-4726-8bc6-6434964d5119"
      },
      "outputs": [
        {
          "name": "stdout",
          "output_type": "stream",
          "text": [
            "\n"
          ]
        }
      ],
      "source": [
        "\"\"\"\n",
        "0                   1                   2                   3\n",
        "0 1 2 3 4 5 6 7 8 9 0 1 2 3 4 5 6 7 8 9 0 1 2 3 4 5 6 7 8 9 0 1\n",
        "+-+-+-+-+-+-+-+-+-+-+-+-+-+-+-+-+-+-+-+-+-+-+-+-+-+-+-+-+-+-+-+-+\n",
        "|          Source Port          |       Destination Port        |\n",
        "+-+-+-+-+-+-+-+-+-+-+-+-+-+-+-+-+-+-+-+-+-+-+-+-+-+-+-+-+-+-+-+-+\n",
        "|                        Sequence Number                        |\n",
        "+-+-+-+-+-+-+-+-+-+-+-+-+-+-+-+-+-+-+-+-+-+-+-+-+-+-+-+-+-+-+-+-+\n",
        "|                    Acknowledgment Number                      |\n",
        "+-+-+-+-+-+-+-+-+-+-+-+-+-+-+-+-+-+-+-+-+-+-+-+-+-+-+-+-+-+-+-+-+\n",
        "|  Data |           |U|A|P|R|S|F|                               |\n",
        "| Offset| Reserved  |R|C|S|S|Y|I|            Window             |\n",
        "|       |           |G|K|H|T|N|N|                               |\n",
        "+-+-+-+-+-+-+-+-+-+-+-+-+-+-+-+-+-+-+-+-+-+-+-+-+-+-+-+-+-+-+-+-+\n",
        "|           Checksum            |         Urgent Pointer        |\n",
        "+-+-+-+-+-+-+-+-+-+-+-+-+-+-+-+-+-+-+-+-+-+-+-+-+-+-+-+-+-+-+-+-+\n",
        "|                    Options                    |    Padding    |\n",
        "+-+-+-+-+-+-+-+-+-+-+-+-+-+-+-+-+-+-+-+-+-+-+-+-+-+-+-+-+-+-+-+-+\n",
        "|                             data                              |\n",
        "+-+-+-+-+-+-+-+-+-+-+-+-+-+-+-+-+-+-+-+-+-+-+-+-+-+-+-+-+-+-+-+-+\n",
        "02 04 05 a0 01 03 03 05 01 01 08 0a 1d 74 65 c5 00 00 00 00 04 02 00 00\n",
        "\"\"\"\n",
        "print()"
      ]
    },
    {
      "cell_type": "markdown",
      "metadata": {
        "id": "tcOQYhxiqy7L"
      },
      "source": [
        "#### Exploración"
      ]
    },
    {
      "cell_type": "code",
      "execution_count": 7,
      "metadata": {
        "colab": {
          "base_uri": "https://localhost:8080/"
        },
        "id": "6V_p1aruq4d4",
        "outputId": "0b0cd476-f5a3-4768-dfa2-39b708bb102d"
      },
      "outputs": [
        {
          "name": "stdout",
          "output_type": "stream",
          "text": [
            "Informacion del frame:\n",
            "Ether / IP / TCP 40.126.24.147:https > 192.168.0.9:39782 A / Padding\n",
            "Informacion del paquete:\n",
            "IP / TCP 40.126.24.147:https > 192.168.0.9:39782 A / Padding\n",
            "Informacion del segmento:\n",
            "TCP 40.126.24.147:https > 192.168.0.9:39782 A / Padding\n",
            "Data:\n",
            "Padding\n",
            "###[ Ethernet ]### \n",
            "  dst       = 40:5b:d8:95:5d:07\n",
            "  src       = 6c:63:9c:37:ef:60\n",
            "  type      = IPv4\n",
            "###[ IP ]### \n",
            "     version   = 4\n",
            "     ihl       = 5\n",
            "     tos       = 0x0\n",
            "     len       = 40\n",
            "     id        = 42706\n",
            "     flags     = DF\n",
            "     frag      = 0\n",
            "     ttl       = 108\n",
            "     proto     = tcp\n",
            "     chksum    = 0x663b\n",
            "     src       = 40.126.24.147\n",
            "     dst       = 192.168.0.9\n",
            "     \\options   \\\n",
            "###[ TCP ]### \n",
            "        sport     = https\n",
            "        dport     = 39782\n",
            "        seq       = 1317107098\n",
            "        ack       = 1437256936\n",
            "        dataofs   = 5\n",
            "        reserved  = 0\n",
            "        flags     = A\n",
            "        window    = 16385\n",
            "        chksum    = 0xea40\n",
            "        urgptr    = 0\n",
            "        options   = ''\n",
            "###[ Padding ]### \n",
            "           load      = '\\x00\\x00\\x00\\x00\\x00\\x00'\n",
            "\n",
            "###[ Padding ]### \n",
            "  load      = '\\x00\\x00\\x00\\x00\\x00\\x00'\n",
            "\n"
          ]
        }
      ],
      "source": [
        "#Recordemos que en los modelos de red, las capas inferiores encapsulan la información de las capas superiores\n",
        "#Frames en paquetes, paquetes en segmentos (Ethernet, IP), modelo TCP/IP\n",
        "\n",
        "ethernet_frame = pcap[0]\n",
        "ip_packet = ethernet_frame.payload\n",
        "segment = ip_packet.payload\n",
        "data = segment.payload #recupera la informacion de la capa 4\n",
        "\n",
        "print(\"Informacion del frame:\")\n",
        "print(ethernet_frame.summary())\n",
        "\n",
        "print(\"Informacion del paquete:\")\n",
        "print(ip_packet.summary())\n",
        "\n",
        "print(\"Informacion del segmento:\")\n",
        "print(segment.summary())\n",
        "\n",
        "print(\"Data:\")\n",
        "print(data.summary())\n",
        "\n",
        "ethernet_frame.show()\n",
        "data.show()"
      ]
    },
    {
      "cell_type": "markdown",
      "metadata": {
        "id": "B7VfYOxJsq1Y"
      },
      "source": [
        "#### Tipos de datos en Scapy"
      ]
    },
    {
      "cell_type": "code",
      "execution_count": 8,
      "metadata": {
        "colab": {
          "base_uri": "https://localhost:8080/"
        },
        "id": "ll1ixX5KspSd",
        "outputId": "39aa2577-7f16-4b6c-af1a-30764cb51a71"
      },
      "outputs": [
        {
          "name": "stdout",
          "output_type": "stream",
          "text": [
            "<class 'scapy.layers.l2.Ether'>\n",
            "<class 'scapy.layers.inet.IP'>\n",
            "<class 'scapy.layers.inet.TCP'>\n",
            "Ethernet <Ether from Sniffed: TCP:23 UDP:0 ICMP:0 Other:2>\n",
            "IP <IP from Sniffed: TCP:23 UDP:0 ICMP:0 Other:1>\n",
            "TCP <TCP from Sniffed: TCP:23 UDP:0 ICMP:0 Other:0>\n",
            "UDP <UDP from Sniffed: TCP:0 UDP:0 ICMP:0 Other:0>\n"
          ]
        }
      ],
      "source": [
        "print(type(ethernet_frame))\n",
        "print(type(ip_packet))\n",
        "print(type(segment))\n",
        "\n",
        "# Packets can be filtered on layers ie) ethernet_frame[scapy.layers.l2.Ether]\n",
        "ethernet_type = type(ethernet_frame)\n",
        "ip_type = type(ip_packet)\n",
        "tcp_type = type(segment)\n",
        "print(\"Ethernet\",pcap[ethernet_type])\n",
        "print(\"IP\", pcap[ip_type])\n",
        "print(\"TCP\", pcap[tcp_type])\n",
        "\n",
        "# Scapy provides this via import statements\n",
        "from scapy.layers.l2 import Ether\n",
        "from scapy.layers.inet import IP\n",
        "from scapy.layers.inet import TCP, UDP\n",
        "\n",
        "print(\"UDP\", pcap[UDP])"
      ]
    },
    {
      "cell_type": "markdown",
      "metadata": {
        "id": "ioVnNkvRthYL"
      },
      "source": [
        "#### Conversion de PCAP a DF"
      ]
    },
    {
      "cell_type": "code",
      "execution_count": 14,
      "metadata": {
        "colab": {
          "base_uri": "https://localhost:8080/"
        },
        "id": "H50zKfyhtkck",
        "outputId": "3eba1c99-7aba-4da3-9cba-08e5ea11850a"
      },
      "outputs": [
        {
          "data": {
            "text/html": [
              "<div>\n",
              "<style scoped>\n",
              "    .dataframe tbody tr th:only-of-type {\n",
              "        vertical-align: middle;\n",
              "    }\n",
              "\n",
              "    .dataframe tbody tr th {\n",
              "        vertical-align: top;\n",
              "    }\n",
              "\n",
              "    .dataframe thead th {\n",
              "        text-align: right;\n",
              "    }\n",
              "</style>\n",
              "<table border=\"1\" class=\"dataframe\">\n",
              "  <thead>\n",
              "    <tr style=\"text-align: right;\">\n",
              "      <th></th>\n",
              "      <th>version</th>\n",
              "      <th>ihl</th>\n",
              "      <th>tos</th>\n",
              "      <th>len</th>\n",
              "      <th>id</th>\n",
              "      <th>flags</th>\n",
              "      <th>frag</th>\n",
              "      <th>ttl</th>\n",
              "      <th>proto</th>\n",
              "      <th>chksum</th>\n",
              "      <th>...</th>\n",
              "      <th>dataofs</th>\n",
              "      <th>reserved</th>\n",
              "      <th>flags</th>\n",
              "      <th>window</th>\n",
              "      <th>chksum</th>\n",
              "      <th>urgptr</th>\n",
              "      <th>options</th>\n",
              "      <th>payload</th>\n",
              "      <th>payload_raw</th>\n",
              "      <th>payload_hex</th>\n",
              "    </tr>\n",
              "  </thead>\n",
              "  <tbody>\n",
              "    <tr>\n",
              "      <th>0</th>\n",
              "      <td>4</td>\n",
              "      <td>5</td>\n",
              "      <td>0</td>\n",
              "      <td>40</td>\n",
              "      <td>42706</td>\n",
              "      <td>DF</td>\n",
              "      <td>0</td>\n",
              "      <td>108</td>\n",
              "      <td>6</td>\n",
              "      <td>26171</td>\n",
              "      <td>...</td>\n",
              "      <td>5</td>\n",
              "      <td>0</td>\n",
              "      <td>A</td>\n",
              "      <td>16385</td>\n",
              "      <td>59968</td>\n",
              "      <td>0</td>\n",
              "      <td>None</td>\n",
              "      <td>6</td>\n",
              "      <td>b'\\x00\\x00\\x00\\x00\\x00\\x00'</td>\n",
              "      <td>b'000000000000'</td>\n",
              "    </tr>\n",
              "    <tr>\n",
              "      <th>1</th>\n",
              "      <td>4</td>\n",
              "      <td>5</td>\n",
              "      <td>0</td>\n",
              "      <td>1500</td>\n",
              "      <td>42707</td>\n",
              "      <td>DF</td>\n",
              "      <td>0</td>\n",
              "      <td>108</td>\n",
              "      <td>6</td>\n",
              "      <td>24710</td>\n",
              "      <td>...</td>\n",
              "      <td>5</td>\n",
              "      <td>0</td>\n",
              "      <td>A</td>\n",
              "      <td>16385</td>\n",
              "      <td>51347</td>\n",
              "      <td>0</td>\n",
              "      <td>0</td>\n",
              "      <td>1460</td>\n",
              "      <td>b'\\x17\\x03\\x03\\x061\\xed?wIS\\xfa\\x14\\xba\\xf8\\xd...</td>\n",
              "      <td>b'1703030631ed3f774953fa14baf8db1c1d3dc18faecf...</td>\n",
              "    </tr>\n",
              "    <tr>\n",
              "      <th>2</th>\n",
              "      <td>4</td>\n",
              "      <td>5</td>\n",
              "      <td>0</td>\n",
              "      <td>170</td>\n",
              "      <td>42708</td>\n",
              "      <td>DF</td>\n",
              "      <td>0</td>\n",
              "      <td>108</td>\n",
              "      <td>6</td>\n",
              "      <td>26039</td>\n",
              "      <td>...</td>\n",
              "      <td>5</td>\n",
              "      <td>0</td>\n",
              "      <td>PA</td>\n",
              "      <td>16385</td>\n",
              "      <td>44381</td>\n",
              "      <td>0</td>\n",
              "      <td>0</td>\n",
              "      <td>130</td>\n",
              "      <td>b\"2\\x98\\xf0't5\\xf8\\xad\\x0e\\x9f\\xbd\\xa7\\x11\\x8b...</td>\n",
              "      <td>b'3298f0277435f8ad0e9fbda7118b397ae9e89fb6d98d...</td>\n",
              "    </tr>\n",
              "    <tr>\n",
              "      <th>3</th>\n",
              "      <td>4</td>\n",
              "      <td>5</td>\n",
              "      <td>0</td>\n",
              "      <td>40</td>\n",
              "      <td>49266</td>\n",
              "      <td>DF</td>\n",
              "      <td>0</td>\n",
              "      <td>64</td>\n",
              "      <td>6</td>\n",
              "      <td>30875</td>\n",
              "      <td>...</td>\n",
              "      <td>5</td>\n",
              "      <td>0</td>\n",
              "      <td>A</td>\n",
              "      <td>1024</td>\n",
              "      <td>8204</td>\n",
              "      <td>0</td>\n",
              "      <td>None</td>\n",
              "      <td>0</td>\n",
              "      <td>b''</td>\n",
              "      <td>b''</td>\n",
              "    </tr>\n",
              "    <tr>\n",
              "      <th>4</th>\n",
              "      <td>4</td>\n",
              "      <td>5</td>\n",
              "      <td>0</td>\n",
              "      <td>139</td>\n",
              "      <td>33724</td>\n",
              "      <td>DF</td>\n",
              "      <td>0</td>\n",
              "      <td>108</td>\n",
              "      <td>6</td>\n",
              "      <td>27986</td>\n",
              "      <td>...</td>\n",
              "      <td>5</td>\n",
              "      <td>0</td>\n",
              "      <td>PA</td>\n",
              "      <td>16383</td>\n",
              "      <td>9538</td>\n",
              "      <td>0</td>\n",
              "      <td>0</td>\n",
              "      <td>99</td>\n",
              "      <td>b'\\x16\\x03\\x03\\x00X\\x02\\x00\\x00T\\x03\\x03\\xcf!\\...</td>\n",
              "      <td>b'1603030058020000540303cf21ad74e59a6111be1d8c...</td>\n",
              "    </tr>\n",
              "  </tbody>\n",
              "</table>\n",
              "<p>5 rows × 28 columns</p>\n",
              "</div>"
            ],
            "text/plain": [
              "  version ihl tos   len     id flags frag  ttl proto chksum  ... dataofs  \\\n",
              "0       4   5   0    40  42706    DF    0  108     6  26171  ...       5   \n",
              "1       4   5   0  1500  42707    DF    0  108     6  24710  ...       5   \n",
              "2       4   5   0   170  42708    DF    0  108     6  26039  ...       5   \n",
              "3       4   5   0    40  49266    DF    0   64     6  30875  ...       5   \n",
              "4       4   5   0   139  33724    DF    0  108     6  27986  ...       5   \n",
              "\n",
              "  reserved flags  window chksum urgptr options payload  \\\n",
              "0        0     A   16385  59968      0    None       6   \n",
              "1        0     A   16385  51347      0       0    1460   \n",
              "2        0    PA   16385  44381      0       0     130   \n",
              "3        0     A    1024   8204      0    None       0   \n",
              "4        0    PA   16383   9538      0       0      99   \n",
              "\n",
              "                                         payload_raw  \\\n",
              "0                        b'\\x00\\x00\\x00\\x00\\x00\\x00'   \n",
              "1  b'\\x17\\x03\\x03\\x061\\xed?wIS\\xfa\\x14\\xba\\xf8\\xd...   \n",
              "2  b\"2\\x98\\xf0't5\\xf8\\xad\\x0e\\x9f\\xbd\\xa7\\x11\\x8b...   \n",
              "3                                                b''   \n",
              "4  b'\\x16\\x03\\x03\\x00X\\x02\\x00\\x00T\\x03\\x03\\xcf!\\...   \n",
              "\n",
              "                                         payload_hex  \n",
              "0                                    b'000000000000'  \n",
              "1  b'1703030631ed3f774953fa14baf8db1c1d3dc18faecf...  \n",
              "2  b'3298f0277435f8ad0e9fbda7118b397ae9e89fb6d98d...  \n",
              "3                                                b''  \n",
              "4  b'1603030058020000540303cf21ad74e59a6111be1d8c...  \n",
              "\n",
              "[5 rows x 28 columns]"
            ]
          },
          "execution_count": 14,
          "metadata": {},
          "output_type": "execute_result"
        }
      ],
      "source": [
        "# Obtenemos los campos de IP/TCP/UDP que seran las columnas de nuestro DF\n",
        "ip_fields = [field.name for field in IP().fields_desc]\n",
        "tcp_fields = [field.name for field in TCP().fields_desc]\n",
        "udp_fields = [field.name for field in UDP().fields_desc]\n",
        "\n",
        "#Concatenamos todos los campos\n",
        "dataframe_fields = ip_fields + ['time'] + tcp_fields + ['payload','payload_raw','payload_hex']\n",
        "\n",
        "# Creamos un DF en blanco con los campos como columnas\n",
        "df = pd.DataFrame(columns=dataframe_fields)\n",
        "for packet in pcap[IP]:\n",
        "    # Obtenemos los valores de los campos de cada fila\n",
        "    field_values = []\n",
        "    # A;adimos todos los valores de los campos de IP al df\n",
        "    for field in ip_fields:\n",
        "        if field == 'options':\n",
        "            # Obtenemos el numero de opciones del IP Header\n",
        "            field_values.append(len(packet[IP].fields[field]))\n",
        "        else:\n",
        "            field_values.append(packet[IP].fields[field])\n",
        "\n",
        "    field_values.append(packet.time)\n",
        "\n",
        "    layer_type = type(packet[IP].payload)\n",
        "    for field in tcp_fields:\n",
        "        try:\n",
        "            if field == 'options':\n",
        "                field_values.append(len(packet[layer_type].fields[field]))\n",
        "            else:\n",
        "                field_values.append(packet[layer_type].fields[field])\n",
        "        except:\n",
        "            field_values.append(None)\n",
        "\n",
        "    # Agregamos el payload\n",
        "    field_values.append(len(packet[layer_type].payload))\n",
        "    field_values.append(packet[layer_type].payload.original)\n",
        "    field_values.append(binascii.hexlify(packet[layer_type].payload.original))\n",
        "    # Agregamos la fila al df\n",
        "    df_append = pd.DataFrame([field_values], columns=dataframe_fields)\n",
        "    df = pd.concat([df, df_append], axis=0)\n",
        "\n",
        "# Reset Index\n",
        "df = df.reset_index()\n",
        "# Drop old index column\n",
        "df = df.drop(columns=\"index\")\n",
        "\n",
        "df.head(5)"
      ]
    },
    {
      "cell_type": "code",
      "execution_count": 11,
      "metadata": {
        "colab": {
          "base_uri": "https://localhost:8080/",
          "height": 751
        },
        "id": "LqqOTjHmzcpJ",
        "outputId": "81104b8e-e53a-4659-b40b-d7cac99ccb4d"
      },
      "outputs": [
        {
          "data": {
            "text/html": [
              "<div>\n",
              "<style scoped>\n",
              "    .dataframe tbody tr th:only-of-type {\n",
              "        vertical-align: middle;\n",
              "    }\n",
              "\n",
              "    .dataframe tbody tr th {\n",
              "        vertical-align: top;\n",
              "    }\n",
              "\n",
              "    .dataframe thead th {\n",
              "        text-align: right;\n",
              "    }\n",
              "</style>\n",
              "<table border=\"1\" class=\"dataframe\">\n",
              "  <thead>\n",
              "    <tr style=\"text-align: right;\">\n",
              "      <th></th>\n",
              "      <th>src</th>\n",
              "      <th>dst</th>\n",
              "      <th>sport</th>\n",
              "      <th>dport</th>\n",
              "    </tr>\n",
              "  </thead>\n",
              "  <tbody>\n",
              "    <tr>\n",
              "      <th>0</th>\n",
              "      <td>40.126.24.147</td>\n",
              "      <td>192.168.0.9</td>\n",
              "      <td>443</td>\n",
              "      <td>39782</td>\n",
              "    </tr>\n",
              "    <tr>\n",
              "      <th>1</th>\n",
              "      <td>40.126.24.147</td>\n",
              "      <td>192.168.0.9</td>\n",
              "      <td>443</td>\n",
              "      <td>39782</td>\n",
              "    </tr>\n",
              "    <tr>\n",
              "      <th>2</th>\n",
              "      <td>40.126.24.147</td>\n",
              "      <td>192.168.0.9</td>\n",
              "      <td>443</td>\n",
              "      <td>39782</td>\n",
              "    </tr>\n",
              "    <tr>\n",
              "      <th>3</th>\n",
              "      <td>192.168.0.9</td>\n",
              "      <td>40.126.24.147</td>\n",
              "      <td>39782</td>\n",
              "      <td>443</td>\n",
              "    </tr>\n",
              "    <tr>\n",
              "      <th>4</th>\n",
              "      <td>20.42.72.131</td>\n",
              "      <td>192.168.0.9</td>\n",
              "      <td>443</td>\n",
              "      <td>39783</td>\n",
              "    </tr>\n",
              "    <tr>\n",
              "      <th>5</th>\n",
              "      <td>192.168.0.9</td>\n",
              "      <td>20.42.72.131</td>\n",
              "      <td>39783</td>\n",
              "      <td>443</td>\n",
              "    </tr>\n",
              "    <tr>\n",
              "      <th>6</th>\n",
              "      <td>192.168.0.9</td>\n",
              "      <td>40.126.24.147</td>\n",
              "      <td>39782</td>\n",
              "      <td>443</td>\n",
              "    </tr>\n",
              "    <tr>\n",
              "      <th>7</th>\n",
              "      <td>20.42.72.131</td>\n",
              "      <td>192.168.0.9</td>\n",
              "      <td>443</td>\n",
              "      <td>39783</td>\n",
              "    </tr>\n",
              "    <tr>\n",
              "      <th>8</th>\n",
              "      <td>20.42.72.131</td>\n",
              "      <td>192.168.0.9</td>\n",
              "      <td>443</td>\n",
              "      <td>39783</td>\n",
              "    </tr>\n",
              "    <tr>\n",
              "      <th>9</th>\n",
              "      <td>192.168.0.9</td>\n",
              "      <td>20.42.72.131</td>\n",
              "      <td>39783</td>\n",
              "      <td>443</td>\n",
              "    </tr>\n",
              "    <tr>\n",
              "      <th>10</th>\n",
              "      <td>20.42.72.131</td>\n",
              "      <td>192.168.0.9</td>\n",
              "      <td>443</td>\n",
              "      <td>39783</td>\n",
              "    </tr>\n",
              "    <tr>\n",
              "      <th>11</th>\n",
              "      <td>20.42.72.131</td>\n",
              "      <td>192.168.0.9</td>\n",
              "      <td>443</td>\n",
              "      <td>39783</td>\n",
              "    </tr>\n",
              "    <tr>\n",
              "      <th>12</th>\n",
              "      <td>192.168.0.9</td>\n",
              "      <td>20.42.72.131</td>\n",
              "      <td>39783</td>\n",
              "      <td>443</td>\n",
              "    </tr>\n",
              "    <tr>\n",
              "      <th>13</th>\n",
              "      <td>192.168.0.9</td>\n",
              "      <td>20.42.72.131</td>\n",
              "      <td>39783</td>\n",
              "      <td>443</td>\n",
              "    </tr>\n",
              "    <tr>\n",
              "      <th>14</th>\n",
              "      <td>192.168.0.9</td>\n",
              "      <td>20.42.72.131</td>\n",
              "      <td>39783</td>\n",
              "      <td>443</td>\n",
              "    </tr>\n",
              "    <tr>\n",
              "      <th>15</th>\n",
              "      <td>192.168.0.9</td>\n",
              "      <td>20.42.72.131</td>\n",
              "      <td>39783</td>\n",
              "      <td>443</td>\n",
              "    </tr>\n",
              "    <tr>\n",
              "      <th>16</th>\n",
              "      <td>20.42.72.131</td>\n",
              "      <td>192.168.0.9</td>\n",
              "      <td>443</td>\n",
              "      <td>39783</td>\n",
              "    </tr>\n",
              "    <tr>\n",
              "      <th>17</th>\n",
              "      <td>20.42.72.131</td>\n",
              "      <td>192.168.0.9</td>\n",
              "      <td>443</td>\n",
              "      <td>39783</td>\n",
              "    </tr>\n",
              "    <tr>\n",
              "      <th>18</th>\n",
              "      <td>20.42.72.131</td>\n",
              "      <td>192.168.0.9</td>\n",
              "      <td>443</td>\n",
              "      <td>39783</td>\n",
              "    </tr>\n",
              "    <tr>\n",
              "      <th>19</th>\n",
              "      <td>192.168.0.9</td>\n",
              "      <td>20.42.72.131</td>\n",
              "      <td>39783</td>\n",
              "      <td>443</td>\n",
              "    </tr>\n",
              "    <tr>\n",
              "      <th>20</th>\n",
              "      <td>192.168.0.9</td>\n",
              "      <td>20.42.72.131</td>\n",
              "      <td>39783</td>\n",
              "      <td>443</td>\n",
              "    </tr>\n",
              "    <tr>\n",
              "      <th>21</th>\n",
              "      <td>192.168.0.9</td>\n",
              "      <td>20.42.72.131</td>\n",
              "      <td>39783</td>\n",
              "      <td>443</td>\n",
              "    </tr>\n",
              "    <tr>\n",
              "      <th>22</th>\n",
              "      <td>192.168.0.9</td>\n",
              "      <td>224.0.0.22</td>\n",
              "      <td>None</td>\n",
              "      <td>None</td>\n",
              "    </tr>\n",
              "    <tr>\n",
              "      <th>23</th>\n",
              "      <td>20.42.72.131</td>\n",
              "      <td>192.168.0.9</td>\n",
              "      <td>443</td>\n",
              "      <td>39783</td>\n",
              "    </tr>\n",
              "  </tbody>\n",
              "</table>\n",
              "</div>"
            ],
            "text/plain": [
              "              src            dst  sport  dport\n",
              "0   40.126.24.147    192.168.0.9    443  39782\n",
              "1   40.126.24.147    192.168.0.9    443  39782\n",
              "2   40.126.24.147    192.168.0.9    443  39782\n",
              "3     192.168.0.9  40.126.24.147  39782    443\n",
              "4    20.42.72.131    192.168.0.9    443  39783\n",
              "5     192.168.0.9   20.42.72.131  39783    443\n",
              "6     192.168.0.9  40.126.24.147  39782    443\n",
              "7    20.42.72.131    192.168.0.9    443  39783\n",
              "8    20.42.72.131    192.168.0.9    443  39783\n",
              "9     192.168.0.9   20.42.72.131  39783    443\n",
              "10   20.42.72.131    192.168.0.9    443  39783\n",
              "11   20.42.72.131    192.168.0.9    443  39783\n",
              "12    192.168.0.9   20.42.72.131  39783    443\n",
              "13    192.168.0.9   20.42.72.131  39783    443\n",
              "14    192.168.0.9   20.42.72.131  39783    443\n",
              "15    192.168.0.9   20.42.72.131  39783    443\n",
              "16   20.42.72.131    192.168.0.9    443  39783\n",
              "17   20.42.72.131    192.168.0.9    443  39783\n",
              "18   20.42.72.131    192.168.0.9    443  39783\n",
              "19    192.168.0.9   20.42.72.131  39783    443\n",
              "20    192.168.0.9   20.42.72.131  39783    443\n",
              "21    192.168.0.9   20.42.72.131  39783    443\n",
              "22    192.168.0.9     224.0.0.22   None   None\n",
              "23   20.42.72.131    192.168.0.9    443  39783"
            ]
          },
          "execution_count": 11,
          "metadata": {},
          "output_type": "execute_result"
        }
      ],
      "source": [
        "# Return Src Address, Dst Address, Src Port, Dst Port\n",
        "df[['src','dst','sport','dport']]"
      ]
    },
    {
      "cell_type": "code",
      "execution_count": 15,
      "metadata": {
        "colab": {
          "base_uri": "https://localhost:8080/"
        },
        "id": "rG6Pfp_VzfUe",
        "outputId": "18172844-162d-4969-e04a-446e02cc5202"
      },
      "outputs": [
        {
          "name": "stdout",
          "output_type": "stream",
          "text": [
            "# Top Source Address\n"
          ]
        },
        {
          "data": {
            "text/plain": [
              "count              24\n",
              "unique              3\n",
              "top       192.168.0.9\n",
              "freq               12\n",
              "Name: src, dtype: object"
            ]
          },
          "execution_count": 15,
          "metadata": {},
          "output_type": "execute_result"
        }
      ],
      "source": [
        "#Calcular estadisticas\n",
        "print(\"# Top Source Address\")\n",
        "df['src'].describe()"
      ]
    },
    {
      "cell_type": "code",
      "execution_count": 24,
      "metadata": {
        "colab": {
          "base_uri": "https://localhost:8080/"
        },
        "id": "e1kc8Mzf_uZl",
        "outputId": "c7d72120-f357-44e8-bd8c-48be0d78307a"
      },
      "outputs": [
        {
          "name": "stdout",
          "output_type": "stream",
          "text": [
            "Dirección más frecuente: 192.168.0.9\n",
            "\n",
            "IPs destino más frecuentes\n",
            "-> 40.126.24.147\n",
            "-> 20.42.72.131\n",
            "-> 224.0.0.22\n"
          ]
        }
      ],
      "source": [
        "#¿Quien es la IP de origen mas frecuente?\n",
        "frequent_address = df['src'].describe()['top']\n",
        "print(\"Dirección más frecuente:\",frequent_address)\n",
        "\n",
        "# A que IPs les habla la IP mas frecuente\n",
        "unique_dst = df[df['src'] == frequent_address]['dst'].unique()\n",
        "print(\"\\nIPs destino más frecuentes\")\n",
        "for address in unique_dst:\n",
        "    print(\"->\",address)"
      ]
    },
    {
      "cell_type": "markdown",
      "metadata": {},
      "source": [
        "### Análisis estadístico"
      ]
    },
    {
      "cell_type": "code",
      "execution_count": null,
      "metadata": {},
      "outputs": [],
      "source": []
    }
  ],
  "metadata": {
    "colab": {
      "provenance": []
    },
    "kernelspec": {
      "display_name": "Python 3",
      "name": "python3"
    },
    "language_info": {
      "codemirror_mode": {
        "name": "ipython",
        "version": 3
      },
      "file_extension": ".py",
      "mimetype": "text/x-python",
      "name": "python",
      "nbconvert_exporter": "python",
      "pygments_lexer": "ipython3",
      "version": "3.10.9"
    }
  },
  "nbformat": 4,
  "nbformat_minor": 0
}
